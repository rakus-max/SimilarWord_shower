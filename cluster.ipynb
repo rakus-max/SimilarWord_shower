{
 "cells": [
  {
   "cell_type": "code",
   "execution_count": 2,
   "id": "fac3ffab",
   "metadata": {},
   "outputs": [
    {
     "name": "stderr",
     "output_type": "stream",
     "text": [
      "/Users/xmax0106/.pyenv/versions/3.7.8/lib/python3.7/site-packages/gensim/similarities/__init__.py:15: UserWarning: The gensim.similarities.levenshtein submodule is disabled, because the optional Levenshtein package <https://pypi.org/project/python-Levenshtein/> is unavailable. Install Levenhstein (e.g. `pip install python-Levenshtein`) to suppress this warning.\n",
      "  warnings.warn(msg)\n"
     ]
    }
   ],
   "source": [
    "from gensim.models import KeyedVectors"
   ]
  },
  {
   "cell_type": "code",
   "execution_count": 4,
   "id": "de9b1fd5",
   "metadata": {},
   "outputs": [],
   "source": [
    "model = KeyedVectors.load_word2vec_format(\n",
    "    './data/entity_vector/entity_vector.model.bin', binary = True)"
   ]
  },
  {
   "cell_type": "code",
   "execution_count": 19,
   "id": "346aa0c1",
   "metadata": {},
   "outputs": [
    {
     "name": "stdout",
     "output_type": "stream",
     "text": [
      "小学生\n",
      "高校生\n",
      "[中学生]\n",
      "[小学生]\n",
      "[高校生]\n",
      "大学生\n",
      "3年生\n",
      "5年生\n",
      "6年生\n",
      "2年生\n"
     ]
    }
   ],
   "source": [
    "for i in range(10):\n",
    "    print(model.most_similar(['中学生'])[i][0])"
   ]
  },
  {
   "cell_type": "code",
   "execution_count": 20,
   "id": "3513bc7a",
   "metadata": {},
   "outputs": [
    {
     "data": {
      "text/plain": [
       "'小学生'"
      ]
     },
     "execution_count": 20,
     "metadata": {},
     "output_type": "execute_result"
    }
   ],
   "source": [
    "model.most_similar(['中学生'])[0][0]"
   ]
  }
 ],
 "metadata": {
  "kernelspec": {
   "display_name": "Python 3",
   "language": "python",
   "name": "python3"
  },
  "language_info": {
   "codemirror_mode": {
    "name": "ipython",
    "version": 3
   },
   "file_extension": ".py",
   "mimetype": "text/x-python",
   "name": "python",
   "nbconvert_exporter": "python",
   "pygments_lexer": "ipython3",
   "version": "3.7.8"
  }
 },
 "nbformat": 4,
 "nbformat_minor": 5
}
